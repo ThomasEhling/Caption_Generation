{
  "nbformat": 4,
  "nbformat_minor": 0,
  "metadata": {
    "colab": {
      "name": "CS512_Project_Prepare_Dataset.ipynb",
      "version": "0.3.2",
      "provenance": [],
      "collapsed_sections": []
    },
    "kernelspec": {
      "name": "python3",
      "display_name": "Python 3"
    }
  },
  "cells": [
    {
      "metadata": {
        "id": "aIVjffwVWkHL",
        "colab_type": "code",
        "outputId": "7d598da9-cb1a-4790-83d6-4fe2783c7498",
        "colab": {
          "base_uri": "https://localhost:8080/",
          "height": 34
        }
      },
      "cell_type": "code",
      "source": [
        "import tensorflow as tf\n",
        "from os import listdir\n",
        "import pickle\n",
        "from tqdm import tqdm\n",
        "from pickle import dump\n",
        "from keras.applications.vgg16 import VGG16\n",
        "from keras.preprocessing.image import load_img\n",
        "from keras.preprocessing.image import img_to_array\n",
        "from keras.applications.vgg16 import preprocess_input\n",
        "from keras.models import Sequential\n",
        "from keras.layers.core import Flatten, Dense, Dropout\n",
        "from keras.layers.convolutional import Conv2D, Convolution2D, MaxPooling2D, ZeroPadding2D\n",
        "from keras.optimizers import SGD\n",
        "import cv2, numpy as np\n",
        "from keras.models import load_model\n",
        "from keras.models import Model\n",
        "import string\n",
        "import os"
      ],
      "execution_count": 0,
      "outputs": [
        {
          "output_type": "stream",
          "text": [
            "Using TensorFlow backend.\n"
          ],
          "name": "stderr"
        }
      ]
    },
    {
      "metadata": {
        "id": "BF7Ij1DkXLvI",
        "colab_type": "code",
        "outputId": "80287afc-ca86-4996-ecc6-37b072a6aaa5",
        "colab": {
          "base_uri": "https://localhost:8080/",
          "height": 121
        }
      },
      "cell_type": "code",
      "source": [
        "# mount the google drive locally\n",
        "from google.colab import drive\n",
        "drive.mount('/content/gdrive')\n",
        "PATH_DRIVE = \"/content/gdrive/My Drive/CV_project/\""
      ],
      "execution_count": 0,
      "outputs": [
        {
          "output_type": "stream",
          "text": [
            "Go to this URL in a browser: https://accounts.google.com/o/oauth2/auth?client_id=947318989803-6bn6qk8qdgf4n4g3pfee6491hc0brc4i.apps.googleusercontent.com&redirect_uri=urn%3Aietf%3Awg%3Aoauth%3A2.0%3Aoob&scope=email%20https%3A%2F%2Fwww.googleapis.com%2Fauth%2Fdocs.test%20https%3A%2F%2Fwww.googleapis.com%2Fauth%2Fdrive%20https%3A%2F%2Fwww.googleapis.com%2Fauth%2Fdrive.photos.readonly%20https%3A%2F%2Fwww.googleapis.com%2Fauth%2Fpeopleapi.readonly&response_type=code\n",
            "\n",
            "Enter your authorization code:\n",
            "··········\n",
            "Mounted at /content/gdrive\n"
          ],
          "name": "stdout"
        }
      ]
    },
    {
      "metadata": {
        "id": "vlfhDGRVXjig",
        "colab_type": "code",
        "colab": {}
      },
      "cell_type": "code",
      "source": [
        "# Path to save the results in Google drive\n",
        "path_features_vgg = PATH_DRIVE + 'features_vgg.pkl'\n",
        "path_features_our = PATH_DRIVE + 'features_our.pkl'\n",
        "path_captions = PATH_DRIVE + 'captions.txt'"
      ],
      "execution_count": 0,
      "outputs": []
    },
    {
      "metadata": {
        "id": "l8otCOrUXO4W",
        "colab_type": "code",
        "outputId": "68b8d135-4faf-4c1c-a44d-efe34f829100",
        "colab": {
          "base_uri": "https://localhost:8080/",
          "height": 84
        }
      },
      "cell_type": "code",
      "source": [
        "# import the datasets\n",
        "\n",
        "name_of_zip = 'Flickr8k_Dataset.zip'\n",
        "if not os.path.exists(os.path.abspath('.') + '/' + name_of_zip):\n",
        "  image_zip = tf.keras.utils.get_file(name_of_zip, \n",
        "                                      cache_subdir=os.path.abspath('.'),\n",
        "                                      origin = 'http://nlp.cs.illinois.edu/HockenmaierGroup/Framing_Image_Description/Flickr8k_Dataset.zip',\n",
        "                                      extract = True)\n",
        "  PATH = os.path.dirname(image_zip)+'/Flicker8k_Dataset'\n",
        "else:\n",
        "  PATH = os.path.abspath('.')+'/Flicker8k_Dataset'\n",
        "\n",
        "captions_zip = tf.keras.utils.get_file('Flickr8k_text.zip', \n",
        "                                          cache_subdir=os.path.abspath('.'),\n",
        "                                          origin = 'http://nlp.cs.illinois.edu/HockenmaierGroup/Framing_Image_Description/Flickr8k_text.zip',\n",
        "                                          extract = True)\n",
        "\n",
        "captions_token = os.path.dirname(captions_zip)+'/Flickr8k.token.txt'\n",
        "captions_trainImages = os.path.dirname(captions_zip)+'/Flickr_8k.trainImages.txt'\n",
        "captions_devImages = os.path.dirname(captions_zip)+'/Flickr_8k.devImages.txt'"
      ],
      "execution_count": 0,
      "outputs": [
        {
          "output_type": "stream",
          "text": [
            "Downloading data from http://nlp.cs.illinois.edu/HockenmaierGroup/Framing_Image_Description/Flickr8k_Dataset.zip\n",
            "1115422720/1115419746 [==============================] - 14s 0us/step\n",
            "Downloading data from http://nlp.cs.illinois.edu/HockenmaierGroup/Framing_Image_Description/Flickr8k_text.zip\n",
            "2342912/2340801 [==============================] - 1s 0us/step\n"
          ],
          "name": "stdout"
        }
      ]
    },
    {
      "metadata": {
        "id": "RCTDt0aWiNoB",
        "colab_type": "code",
        "outputId": "f52557c5-6836-4124-fc7d-c26e04971e66",
        "colab": {
          "base_uri": "https://localhost:8080/",
          "height": 50
        }
      },
      "cell_type": "code",
      "source": [
        "#load the weight for the vgg model\n",
        "name_weight = \"vgg_weights.h5\"\n",
        "if not os.path.exists(os.path.abspath('.') + '/' + name_weight):\n",
        "  model= tf.keras.utils.get_file(name_weight, \n",
        "                                      cache_subdir=os.path.abspath('.'),\n",
        "                                      origin = 'https://drive.google.com/file/d/0Bz7KyqmuGsilT0J5dmRCM0ROVHc/view?usp=sharing',\n",
        "                                      extract = False)\n",
        "  path_weight = os.path.dirname(model)\n",
        "else:\n",
        "  path_weight = os.path.abspath('.')+'/Ficker8k_Dataset'"
      ],
      "execution_count": 0,
      "outputs": [
        {
          "output_type": "stream",
          "text": [
            "Downloading data from https://drive.google.com/file/d/0Bz7KyqmuGsilT0J5dmRCM0ROVHc/view?usp=sharing\n",
            " 139264/Unknown - 0s 0us/step"
          ],
          "name": "stdout"
        }
      ]
    },
    {
      "metadata": {
        "id": "JG55dl9auC1x",
        "colab_type": "code",
        "colab": {}
      },
      "cell_type": "code",
      "source": [
        "#init the cnn values\n",
        "\n",
        "my_optimizer = SGD(lr=0.1, decay=1e-6, momentum=0.9, nesterov=True)\n",
        "\n",
        "loss_functions = ['categorical_crossentropy', 'mean_squared_error', 'mean_absolute_error', 'squared_hinge']\n",
        "my_loss = loss_functions[0]\n",
        "\n",
        "activation_functions = ['relu','softmax','sigmoid','elu']\n",
        "my_activation = activation_functions[0]\n",
        "my_activation_1 = activation_functions[1]\n",
        "\n",
        "my_pool_size = (2,2)\n",
        "my_stride = (2, 2)\n",
        "\n",
        "# Careful ! we have 5 block in our model, so we need 5 values here\n",
        "receptive_fields = [64, 128, 256, 512, 512]\n",
        "\n",
        "# Careful ! we have 3 block in our model, so we need 3 values here\n",
        "dense_values = [4096, 4096, 1000]\n",
        "\n",
        "dropout = 0.5"
      ],
      "execution_count": 0,
      "outputs": []
    },
    {
      "metadata": {
        "id": "pHN-ijJ_wPFs",
        "colab_type": "code",
        "colab": {}
      },
      "cell_type": "code",
      "source": [
        "#if less than 5 receiptive filds has been entered\n",
        "if (len(receptive_fields) != 5):\n",
        "  #we override the value\n",
        "  receptive_fields = [64, 128, 256, 512, 512]\n",
        "  \n",
        "#if less than 3 dense values has been entered\n",
        "if (len(dense_values) != 3):\n",
        "  #we override the value\n",
        "  dense_values = [4096, 4096, 1000]\n"
      ],
      "execution_count": 0,
      "outputs": []
    },
    {
      "metadata": {
        "id": "5frL3OJoXwGO",
        "colab_type": "code",
        "colab": {}
      },
      "cell_type": "code",
      "source": [
        "# define the models\n",
        "\n",
        "#create the model\n",
        "def create_model():\n",
        "    model = Sequential()\n",
        "    model.add(ZeroPadding2D((1,1),input_shape=(224,224,3)))\n",
        "    model.add(Conv2D(receptive_fields[0], (3, 3), activation=my_activation))\n",
        "    model.add(ZeroPadding2D((1,1)))\n",
        "    model.add(Conv2D(receptive_fields[0], (3, 3), activation=my_activation))\n",
        "    model.add(MaxPooling2D(pool_size=my_pool_size, strides=my_stride))\n",
        "\n",
        "    model.add(ZeroPadding2D((1,1)))\n",
        "    model.add(Conv2D(receptive_fields[1], (3, 3), activation=my_activation))\n",
        "    model.add(ZeroPadding2D((1,1)))\n",
        "    model.add(Conv2D(receptive_fields[1], (3, 3), activation=my_activation))\n",
        "    model.add(MaxPooling2D(pool_size=my_pool_size, strides=my_stride))\n",
        "\n",
        "    model.add(ZeroPadding2D((1,1)))\n",
        "    model.add(Conv2D(receptive_fields[2], (3, 3), activation=my_activation))\n",
        "    model.add(ZeroPadding2D((1,1)))\n",
        "    model.add(Conv2D(receptive_fields[2], (3, 3), activation=my_activation))\n",
        "    model.add(ZeroPadding2D((1,1)))\n",
        "    model.add(Conv2D(receptive_fields[2], (3, 3), activation=my_activation))\n",
        "    model.add(MaxPooling2D(pool_size=my_pool_size, strides=my_stride))\n",
        "\n",
        "    model.add(ZeroPadding2D((1,1)))\n",
        "    model.add(Conv2D(receptive_fields[3], (3, 3), activation=my_activation))\n",
        "    model.add(ZeroPadding2D((1,1)))\n",
        "    model.add(Conv2D(receptive_fields[3], (3, 3), activation=my_activation))\n",
        "    model.add(ZeroPadding2D((1,1)))\n",
        "    model.add(Conv2D(receptive_fields[3], (3, 3), activation=my_activation))\n",
        "    model.add(MaxPooling2D(pool_size=my_pool_size, strides=my_stride))\n",
        "\n",
        "    model.add(ZeroPadding2D((1,1)))\n",
        "    model.add(Conv2D(receptive_fields[4], (3, 3), activation=my_activation))\n",
        "    model.add(ZeroPadding2D((1,1)))\n",
        "    model.add(Conv2D(receptive_fields[4], (3, 3), activation=my_activation))\n",
        "    model.add(ZeroPadding2D((1,1)))\n",
        "    model.add(Conv2D(receptive_fields[4], (3, 3), activation=my_activation))\n",
        "    model.add(MaxPooling2D(pool_size=my_pool_size, strides=my_stride))\n",
        "\n",
        "    model.add(Flatten())\n",
        "    model.add(Dense(dense_values[0], activation=my_activation))\n",
        "    model.add(Dropout(dropout))\n",
        "    model.add(Dense(dense_values[1], activation=my_activation))\n",
        "#     model.add(Dropout(dropout))\n",
        "#     model.add(Dense(dense_values[2], activation=my_activation_1))\n",
        "    \n",
        "    return model\n",
        "\n",
        "\n",
        "# create our own model\n",
        "def load_our_model():\n",
        "  model = create_model()\n",
        "  model.compile(optimizer=my_optimizer, loss=my_loss)\n",
        "\n",
        "  # re-structure the model\n",
        "  print(model.layers.pop())\n",
        "  model = Model(inputs=model.inputs, outputs=model.layers[-1].output)\n",
        "  \n",
        "  # print the architecture of our model\n",
        "  print(\"\\n our model structure : \")\n",
        "  print(model.summary())\n",
        "  \n",
        "  return model\n",
        "\n",
        "# load a premade model\n",
        "def load_vgg_model():\n",
        "  \n",
        "  # get the vgg model from Keras\n",
        "  model = VGG16()\n",
        "  \n",
        "  # re-structure the model to our need\n",
        "  print(model.layers.pop())\n",
        "  model = Model(inputs=model.inputs, outputs=model.layers[-1].output)\n",
        "\n",
        "  # print the architecture of the vgg16 model\n",
        "  print(\"\\n Vgg16 model structure : \")\n",
        "  print(model.summary())\n",
        "  \n",
        "  return model"
      ],
      "execution_count": 0,
      "outputs": []
    },
    {
      "metadata": {
        "id": "fi8AFFZ_X0WE",
        "colab_type": "code",
        "colab": {}
      },
      "cell_type": "code",
      "source": [
        "# Prepare the Photo Data by extracting the features\n",
        "\n",
        "# extract features from the pictures of the Flickr Dataset\n",
        "def extract_features(directory, model):\n",
        "  \n",
        "  # we save the features in a dictionnary\n",
        "  # the image ids are the key, the features the associated values\n",
        "  features = dict()\n",
        "  files = listdir(directory)\n",
        "  print(\"number of images : \",len(files))\n",
        "  \n",
        "  # We use tqdm library to show the progress of the process\n",
        "  for index in tqdm(files):\n",
        "    #load the image\n",
        "    image = load_img(directory + '/' + index, target_size=(224, 224))\n",
        "    image_ar = img_to_array(image)\n",
        "    \n",
        "    # reshape for the model\n",
        "    image_re = image_ar.reshape((1, image_ar.shape[0], image_ar.shape[1], image_ar.shape[2]))\n",
        "    image_re = preprocess_input(image_re)\n",
        "    \n",
        "    # get features\n",
        "    feature = model.predict(image_re, verbose=0)\n",
        "    image_id = index.split('.')[0]\n",
        "    features[image_id] = feature\n",
        "  return features"
      ],
      "execution_count": 0,
      "outputs": []
    },
    {
      "metadata": {
        "id": "wZyokpwVhwof",
        "colab_type": "code",
        "outputId": "3e52d2dd-97b4-40ca-9311-2fa7399e8ff4",
        "colab": {
          "base_uri": "https://localhost:8080/",
          "height": 974
        }
      },
      "cell_type": "code",
      "source": [
        "# With the predefined model VGG16\n",
        "\n",
        "model_vgg = load_vgg_model()\n",
        "# check if the file exists\n",
        "if not os.path.exists(path_features_vgg):\n",
        "  \n",
        "  # extract the features\n",
        "  features_vgg = extract_features(PATH, model_vgg)\n",
        "  print('Extracted Features: %d' % len(features_vgg))\n",
        "  \n",
        "  # save to a new file\n",
        "  dump(features_vgg, open(path_features_vgg, 'wb'))\n",
        "else :\n",
        "  with open(path_features_vgg, 'rb') as f:\n",
        "    features_vgg = pickle.load(f)"
      ],
      "execution_count": 0,
      "outputs": [
        {
          "output_type": "stream",
          "text": [
            "Downloading data from https://github.com/fchollet/deep-learning-models/releases/download/v0.1/vgg16_weights_tf_dim_ordering_tf_kernels.h5\n",
            "553467904/553467096 [==============================] - 13s 0us/step\n",
            "<keras.layers.core.Dense object at 0x7f6d4b45a588>\n",
            "\n",
            " Vgg16 model structure : \n",
            "_________________________________________________________________\n",
            "Layer (type)                 Output Shape              Param #   \n",
            "=================================================================\n",
            "input_1 (InputLayer)         (None, 224, 224, 3)       0         \n",
            "_________________________________________________________________\n",
            "block1_conv1 (Conv2D)        (None, 224, 224, 64)      1792      \n",
            "_________________________________________________________________\n",
            "block1_conv2 (Conv2D)        (None, 224, 224, 64)      36928     \n",
            "_________________________________________________________________\n",
            "block1_pool (MaxPooling2D)   (None, 112, 112, 64)      0         \n",
            "_________________________________________________________________\n",
            "block2_conv1 (Conv2D)        (None, 112, 112, 128)     73856     \n",
            "_________________________________________________________________\n",
            "block2_conv2 (Conv2D)        (None, 112, 112, 128)     147584    \n",
            "_________________________________________________________________\n",
            "block2_pool (MaxPooling2D)   (None, 56, 56, 128)       0         \n",
            "_________________________________________________________________\n",
            "block3_conv1 (Conv2D)        (None, 56, 56, 256)       295168    \n",
            "_________________________________________________________________\n",
            "block3_conv2 (Conv2D)        (None, 56, 56, 256)       590080    \n",
            "_________________________________________________________________\n",
            "block3_conv3 (Conv2D)        (None, 56, 56, 256)       590080    \n",
            "_________________________________________________________________\n",
            "block3_pool (MaxPooling2D)   (None, 28, 28, 256)       0         \n",
            "_________________________________________________________________\n",
            "block4_conv1 (Conv2D)        (None, 28, 28, 512)       1180160   \n",
            "_________________________________________________________________\n",
            "block4_conv2 (Conv2D)        (None, 28, 28, 512)       2359808   \n",
            "_________________________________________________________________\n",
            "block4_conv3 (Conv2D)        (None, 28, 28, 512)       2359808   \n",
            "_________________________________________________________________\n",
            "block4_pool (MaxPooling2D)   (None, 14, 14, 512)       0         \n",
            "_________________________________________________________________\n",
            "block5_conv1 (Conv2D)        (None, 14, 14, 512)       2359808   \n",
            "_________________________________________________________________\n",
            "block5_conv2 (Conv2D)        (None, 14, 14, 512)       2359808   \n",
            "_________________________________________________________________\n",
            "block5_conv3 (Conv2D)        (None, 14, 14, 512)       2359808   \n",
            "_________________________________________________________________\n",
            "block5_pool (MaxPooling2D)   (None, 7, 7, 512)         0         \n",
            "_________________________________________________________________\n",
            "flatten (Flatten)            (None, 25088)             0         \n",
            "_________________________________________________________________\n",
            "fc1 (Dense)                  (None, 4096)              102764544 \n",
            "_________________________________________________________________\n",
            "fc2 (Dense)                  (None, 4096)              16781312  \n",
            "=================================================================\n",
            "Total params: 134,260,544\n",
            "Trainable params: 134,260,544\n",
            "Non-trainable params: 0\n",
            "_________________________________________________________________\n",
            "None\n"
          ],
          "name": "stdout"
        }
      ]
    },
    {
      "metadata": {
        "id": "4vx_fmsKhwTc",
        "colab_type": "code",
        "outputId": "fe3e5f78-16c7-4ef2-bc79-300198e32d63",
        "colab": {
          "base_uri": "https://localhost:8080/",
          "height": 1411
        }
      },
      "cell_type": "code",
      "source": [
        "# With our own model\n",
        "\n",
        "# check if the file exists\n",
        "model_our = load_our_model()\n",
        "if not os.path.exists(path_features_our):\n",
        "  \n",
        "  # extract the features\n",
        "  features_our = extract_features(PATH, model_our)\n",
        "  print('Extracted Features: %d' % len(features_our))\n",
        "  \n",
        "  # save to file\n",
        "  dump(features_our, open(path_features_our, 'wb'))\n",
        "else :\n",
        "  with open(path_features_our, 'rb') as f:\n",
        "    features_our = pickle.load(f)"
      ],
      "execution_count": 0,
      "outputs": [
        {
          "output_type": "stream",
          "text": [
            "<keras.layers.core.Dense object at 0x7f6d47f22c88>\n",
            "\n",
            " our model structure : \n",
            "_________________________________________________________________\n",
            "Layer (type)                 Output Shape              Param #   \n",
            "=================================================================\n",
            "zero_padding2d_1_input (Inpu (None, 224, 224, 3)       0         \n",
            "_________________________________________________________________\n",
            "zero_padding2d_1 (ZeroPaddin (None, 226, 226, 3)       0         \n",
            "_________________________________________________________________\n",
            "conv2d_1 (Conv2D)            (None, 224, 224, 64)      1792      \n",
            "_________________________________________________________________\n",
            "zero_padding2d_2 (ZeroPaddin (None, 226, 226, 64)      0         \n",
            "_________________________________________________________________\n",
            "conv2d_2 (Conv2D)            (None, 224, 224, 64)      36928     \n",
            "_________________________________________________________________\n",
            "max_pooling2d_1 (MaxPooling2 (None, 112, 112, 64)      0         \n",
            "_________________________________________________________________\n",
            "zero_padding2d_3 (ZeroPaddin (None, 114, 114, 64)      0         \n",
            "_________________________________________________________________\n",
            "conv2d_3 (Conv2D)            (None, 112, 112, 128)     73856     \n",
            "_________________________________________________________________\n",
            "zero_padding2d_4 (ZeroPaddin (None, 114, 114, 128)     0         \n",
            "_________________________________________________________________\n",
            "conv2d_4 (Conv2D)            (None, 112, 112, 128)     147584    \n",
            "_________________________________________________________________\n",
            "max_pooling2d_2 (MaxPooling2 (None, 56, 56, 128)       0         \n",
            "_________________________________________________________________\n",
            "zero_padding2d_5 (ZeroPaddin (None, 58, 58, 128)       0         \n",
            "_________________________________________________________________\n",
            "conv2d_5 (Conv2D)            (None, 56, 56, 256)       295168    \n",
            "_________________________________________________________________\n",
            "zero_padding2d_6 (ZeroPaddin (None, 58, 58, 256)       0         \n",
            "_________________________________________________________________\n",
            "conv2d_6 (Conv2D)            (None, 56, 56, 256)       590080    \n",
            "_________________________________________________________________\n",
            "zero_padding2d_7 (ZeroPaddin (None, 58, 58, 256)       0         \n",
            "_________________________________________________________________\n",
            "conv2d_7 (Conv2D)            (None, 56, 56, 256)       590080    \n",
            "_________________________________________________________________\n",
            "max_pooling2d_3 (MaxPooling2 (None, 28, 28, 256)       0         \n",
            "_________________________________________________________________\n",
            "zero_padding2d_8 (ZeroPaddin (None, 30, 30, 256)       0         \n",
            "_________________________________________________________________\n",
            "conv2d_8 (Conv2D)            (None, 28, 28, 512)       1180160   \n",
            "_________________________________________________________________\n",
            "zero_padding2d_9 (ZeroPaddin (None, 30, 30, 512)       0         \n",
            "_________________________________________________________________\n",
            "conv2d_9 (Conv2D)            (None, 28, 28, 512)       2359808   \n",
            "_________________________________________________________________\n",
            "zero_padding2d_10 (ZeroPaddi (None, 30, 30, 512)       0         \n",
            "_________________________________________________________________\n",
            "conv2d_10 (Conv2D)           (None, 28, 28, 512)       2359808   \n",
            "_________________________________________________________________\n",
            "max_pooling2d_4 (MaxPooling2 (None, 14, 14, 512)       0         \n",
            "_________________________________________________________________\n",
            "zero_padding2d_11 (ZeroPaddi (None, 16, 16, 512)       0         \n",
            "_________________________________________________________________\n",
            "conv2d_11 (Conv2D)           (None, 14, 14, 512)       2359808   \n",
            "_________________________________________________________________\n",
            "zero_padding2d_12 (ZeroPaddi (None, 16, 16, 512)       0         \n",
            "_________________________________________________________________\n",
            "conv2d_12 (Conv2D)           (None, 14, 14, 512)       2359808   \n",
            "_________________________________________________________________\n",
            "zero_padding2d_13 (ZeroPaddi (None, 16, 16, 512)       0         \n",
            "_________________________________________________________________\n",
            "conv2d_13 (Conv2D)           (None, 14, 14, 512)       2359808   \n",
            "_________________________________________________________________\n",
            "max_pooling2d_5 (MaxPooling2 (None, 7, 7, 512)         0         \n",
            "_________________________________________________________________\n",
            "flatten_1 (Flatten)          (None, 25088)             0         \n",
            "_________________________________________________________________\n",
            "dense_1 (Dense)              (None, 4096)              102764544 \n",
            "_________________________________________________________________\n",
            "dropout_1 (Dropout)          (None, 4096)              0         \n",
            "_________________________________________________________________\n",
            "dense_2 (Dense)              (None, 4096)              16781312  \n",
            "=================================================================\n",
            "Total params: 134,260,544\n",
            "Trainable params: 134,260,544\n",
            "Non-trainable params: 0\n",
            "_________________________________________________________________\n",
            "None\n"
          ],
          "name": "stdout"
        }
      ]
    },
    {
      "metadata": {
        "id": "mWH7lb_ppVmc",
        "colab_type": "code",
        "colab": {}
      },
      "cell_type": "code",
      "source": [
        "# Now the preparation of the captions :\n",
        "\n",
        "# read the captions token file from the drive\n",
        "with open(captions_token, 'r') as f:\n",
        "    doc = f.read()"
      ],
      "execution_count": 0,
      "outputs": []
    },
    {
      "metadata": {
        "id": "Xj4-p6eyYiAf",
        "colab_type": "code",
        "outputId": "887d7897-83a2-4f8b-9324-c8505bcb214c",
        "colab": {
          "base_uri": "https://localhost:8080/",
          "height": 34
        }
      },
      "cell_type": "code",
      "source": [
        "# load captions : \n",
        "captions = dict()\n",
        "for line in doc.split('\\n'):\n",
        "  tokens = line.split()\n",
        "  if len(line) < 2:\n",
        "    continue\n",
        "  image_id, image_capt = tokens[0], tokens[1:]\n",
        "  image_id = image_id.split('.')[0]\n",
        "  image_capt = ' '.join(image_capt)\n",
        "  if image_id not in captions:\n",
        "    captions[image_id] = list()\n",
        "  captions[image_id].append(image_capt)\n",
        "\n",
        "print('Number of loaded captions: %d' % len(captions))\n",
        "\n",
        "# clean the captions\n",
        "table = str.maketrans('', '', string.punctuation)\n",
        "for key, capt_list in captions.items():\n",
        "  for i in range(len(capt_list)):\n",
        "    capt = capt_list[i]\n",
        "    capt = capt.split()\n",
        "    capt = [word.lower() for word in capt]\n",
        "    capt = [w.translate(table) for w in capt]\n",
        "    capt = [word for word in capt if len(word)>1]\n",
        "    capt = [word for word in capt if word.isalpha()]\n",
        "    capt_list[i] =  ' '.join(capt)"
      ],
      "execution_count": 0,
      "outputs": [
        {
          "output_type": "stream",
          "text": [
            "Number of loaded captions: 8092\n"
          ],
          "name": "stdout"
        }
      ]
    },
    {
      "metadata": {
        "id": "OJBMRI_Ao6jj",
        "colab_type": "code",
        "outputId": "8573c72e-0fa4-49ba-ca84-f704f0a2c650",
        "colab": {
          "base_uri": "https://localhost:8080/",
          "height": 34
        }
      },
      "cell_type": "code",
      "source": [
        "# print the size of the clean vocabulary\n",
        "vocab = set()\n",
        "for key in captions.keys():\n",
        "  [vocab.update(c.split()) for c in captions[key]]\n",
        "print('Clean Vocabulary : %d' % len(vocab))"
      ],
      "execution_count": 0,
      "outputs": [
        {
          "output_type": "stream",
          "text": [
            "Clean Vocabulary : 8763\n"
          ],
          "name": "stdout"
        }
      ]
    },
    {
      "metadata": {
        "id": "4f1v__EAo7WS",
        "colab_type": "code",
        "colab": {}
      },
      "cell_type": "code",
      "source": [
        "# save the captions to a file\n",
        "lines = list()\n",
        "for key, desc_list in captions.items():\n",
        "  for desc in desc_list:\n",
        "    lines.append(key + ' ' + desc)\n",
        "data = '\\n'.join(lines)\n",
        "file = open(path_captions, 'w')\n",
        "file.write(data)\n",
        "file.close()"
      ],
      "execution_count": 0,
      "outputs": []
    }
  ]
}